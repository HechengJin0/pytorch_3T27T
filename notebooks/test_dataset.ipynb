{
 "cells": [
  {
   "cell_type": "markdown",
   "id": "6cc5dc3e-dc71-4fa8-a25d-12c1d3c5c549",
   "metadata": {},
   "source": [
    "# Testing data_zoo/dataset.py"
   ]
  },
  {
   "cell_type": "code",
   "execution_count": null,
   "id": "472c1498-d7f5-468b-af76-9fe93253eb14",
   "metadata": {},
   "outputs": [],
   "source": [
    "%load_ext autoreload\n",
    "%autoreload 2\n",
    "%matplotlib inline"
   ]
  },
  {
   "cell_type": "code",
   "execution_count": null,
   "id": "e8a5b065-d506-4931-b6f0-b9a2bd630db3",
   "metadata": {},
   "outputs": [],
   "source": [
    "import matplotlib.pyplot as plt\n",
    "import numpy as np\n",
    "import torchvision.transforms as T\n",
    "from pytorch_3T27T.data import (BaseDataLoader, KFoldDataLoader,\n",
    "                                OneFoldDataLoader, CycleGANDataset)"
   ]
  },
  {
   "cell_type": "code",
   "execution_count": null,
   "id": "6cc1ab1c-f008-4fd7-81c8-d39e2868eb60",
   "metadata": {},
   "outputs": [],
   "source": [
    "def ToPILImage(img):\n",
    "    if img.ndim > 3:\n",
    "        assert img.shape[0] == 1\n",
    "    return T.ToPILImage()(img.squeeze().to('cpu'))"
   ]
  },
  {
   "cell_type": "code",
   "execution_count": null,
   "id": "3bb212bc-3286-4ea7-92ac-4b26ca747fbb",
   "metadata": {},
   "outputs": [],
   "source": [
    "def plot_CycleGAN_sample(imgs):\n",
    "    fig, axs = plt.subplots(nrows=1, ncols=len(imgs), squeeze=True)\n",
    "    for col_idx, img in enumerate(imgs):\n",
    "        ax = axs[col_idx]\n",
    "        img = np.asarray(img)\n",
    "        ax.imshow(img)\n",
    "        ax.set(xticklabels=[], yticklabels=[], xticks=[], yticks=[])\n",
    "    fig.tight_layout()\n",
    "    return fig"
   ]
  },
  {
   "cell_type": "code",
   "execution_count": null,
   "id": "86c7426b-7c6f-4516-9436-7e845c23793c",
   "metadata": {},
   "outputs": [],
   "source": [
    "cyclegan = CycleGANDataset(download=False, dataset=\"horse2zebra\", train=True, transform=T.ToTensor())"
   ]
  },
  {
   "cell_type": "code",
   "execution_count": null,
   "id": "85d7d6ba-c1ea-4378-9594-4886e2a41f56",
   "metadata": {},
   "outputs": [],
   "source": [
    "train_dataloader = BaseDataLoader(cyclegan)"
   ]
  },
  {
   "cell_type": "code",
   "execution_count": null,
   "id": "41f04d7a-386e-4e78-94ff-03c8a0a4142d",
   "metadata": {},
   "outputs": [],
   "source": [
    "for (i, sample) in enumerate(train_dataloader):\n",
    "    if i == 5:\n",
    "        break\n",
    "    A, B = ToPILImage(sample['A'][0]), ToPILImage(sample['B'][0])\n",
    "    fig = plot_CycleGAN_sample([A, B]) "
   ]
  },
  {
   "cell_type": "code",
   "execution_count": null,
   "id": "83cf26e1-818d-494f-af1d-81319e6dc3c3",
   "metadata": {},
   "outputs": [],
   "source": [
    "kloader = KFoldDataLoader(cyclegan)"
   ]
  },
  {
   "cell_type": "code",
   "execution_count": null,
   "id": "221bb8a2-0ce1-4ad2-910d-15ec39140186",
   "metadata": {},
   "outputs": [],
   "source": [
    "for (fold, train_set, val_set) in kloader:\n",
    "    print(f\"Fold: {fold}\")\n",
    "    print(f\"Trainning Set Size: {len(train_set)}\")\n",
    "    print(f\"Validation Set Size: {len(val_set)}\")\n",
    "    for i, (train_sample, val_sample) in enumerate(zip(train_set, val_set)):\n",
    "        if i == 2:\n",
    "            break\n",
    "        train_A = ToPILImage(train_sample['A'][0])\n",
    "        train_B = ToPILImage(train_sample['B'][0])\n",
    "        val_A = ToPILImage(val_sample['A'][0])\n",
    "        val_B = ToPILImage(val_sample['B'][0])\n",
    "        fig = plot_CycleGAN_sample([train_A, train_B, val_A, val_B]) \n",
    "        plt.show()"
   ]
  },
  {
   "cell_type": "code",
   "execution_count": null,
   "id": "56a201ee-ea85-4aa1-a28d-92a93d2bae73",
   "metadata": {},
   "outputs": [],
   "source": [
    "loader = OneFoldDataLoader(cyclegan)\n",
    "train_dl, val_dl = loader()"
   ]
  },
  {
   "cell_type": "code",
   "execution_count": null,
   "id": "23791ab0-d981-4194-a405-114be5b6310d",
   "metadata": {},
   "outputs": [],
   "source": [
    "for (i, sample) in enumerate(train_dl):\n",
    "    if i == 5:\n",
    "        break\n",
    "    A, B = ToPILImage(sample['A'][0]), ToPILImage(sample['B'][0])\n",
    "    fig = plot_CycleGAN_sample([A, B]) "
   ]
  }
 ],
 "metadata": {
  "kernelspec": {
   "display_name": "pytorch_3T27T",
   "language": "python",
   "name": "pytorch_3t27t"
  },
  "language_info": {
   "codemirror_mode": {
    "name": "ipython",
    "version": 3
   },
   "file_extension": ".py",
   "mimetype": "text/x-python",
   "name": "python",
   "nbconvert_exporter": "python",
   "pygments_lexer": "ipython3"
  }
 },
 "nbformat": 4,
 "nbformat_minor": 5
}
