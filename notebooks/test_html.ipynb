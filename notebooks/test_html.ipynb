{
 "cells": [
  {
   "cell_type": "markdown",
   "id": "6cc5dc3e-dc71-4fa8-a25d-12c1d3c5c549",
   "metadata": {},
   "source": [
    "# Testing utils/html.py"
   ]
  },
  {
   "cell_type": "code",
   "execution_count": null,
   "id": "472c1498-d7f5-468b-af76-9fe93253eb14",
   "metadata": {},
   "outputs": [],
   "source": [
    "%load_ext autoreload\n",
    "%autoreload 2"
   ]
  },
  {
   "cell_type": "code",
   "execution_count": null,
   "id": "e8a5b065-d506-4931-b6f0-b9a2bd630db3",
   "metadata": {},
   "outputs": [],
   "source": [
    "from pytorch_3T27T.utils import HTML"
   ]
  },
  {
   "cell_type": "code",
   "execution_count": null,
   "id": "86c7426b-7c6f-4516-9436-7e845c23793c",
   "metadata": {},
   "outputs": [],
   "source": [
    "html = HTML('web/', 'test_html')\n",
    "html.add_header('hello world!')\n",
    "\n",
    "img_list, txt_list, link_list = [], [], []\n",
    "for n in range(4):\n",
    "    img_list.append(f'image_{n}.png')\n",
    "    txt_list.append(f'text_{n}')\n",
    "    link_list.append(f'image_{n}.png')\n",
    "    \n",
    "html.add_images(img_list, txt_list, link_list)\n",
    "html.save()"
   ]
  }
 ],
 "metadata": {
  "kernelspec": {
   "display_name": "pytorch_3T27T",
   "language": "python",
   "name": "pytorch_3t27t"
  },
  "language_info": {
   "codemirror_mode": {
    "name": "ipython",
    "version": 3
   },
   "file_extension": ".py",
   "mimetype": "text/x-python",
   "name": "python",
   "nbconvert_exporter": "python",
   "pygments_lexer": "ipython3"
  }
 },
 "nbformat": 4,
 "nbformat_minor": 5
}
