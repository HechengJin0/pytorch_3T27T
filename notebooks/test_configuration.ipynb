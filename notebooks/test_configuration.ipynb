{
 "cells": [
  {
   "cell_type": "markdown",
   "id": "cacbf4be-99c4-404d-8a21-109e2c1132c0",
   "metadata": {},
   "source": [
    "# Testing utils/configuration.py"
   ]
  },
  {
   "cell_type": "code",
   "execution_count": null,
   "id": "8da889f7-5b35-4928-980a-42d8269d970b",
   "metadata": {},
   "outputs": [],
   "source": [
    "%load_ext autoreload\n",
    "%autoreload 2"
   ]
  },
  {
   "cell_type": "code",
   "execution_count": null,
   "id": "9f0a1957-45ce-4fff-bae4-dcd4ab724d50",
   "metadata": {},
   "outputs": [],
   "source": [
    "import os.path\n",
    "from os.path import join as pjoin\n",
    "from pytorch_3T27T import ROOT\n",
    "from pytorch_3T27T.utils import set_seed, Configuration, load_configuration_from_yaml, save_configuration_to_yaml"
   ]
  },
  {
   "cell_type": "code",
   "execution_count": null,
   "id": "8c4323e4-fc75-4796-bd4a-255bbb0957a6",
   "metadata": {},
   "outputs": [],
   "source": [
    "cfg_yml = pjoin(ROOT, 'experiments/A04_MNIST-handwritten-digit-classification/E03_CNN/S0004_inc-batch/A04-E03-S0004.yml')"
   ]
  },
  {
   "cell_type": "code",
   "execution_count": null,
   "id": "a5261e7a-39af-4295-a1e6-713bbee9eb31",
   "metadata": {},
   "outputs": [],
   "source": [
    "cfg = load_configuration_from_yaml(cfg_yml)"
   ]
  },
  {
   "cell_type": "code",
   "execution_count": null,
   "id": "d039f58a-bc36-4c49-a9fb-49ee537c79c2",
   "metadata": {},
   "outputs": [],
   "source": [
    "print(cfg)"
   ]
  }
 ],
 "metadata": {
  "kernelspec": {
   "display_name": "pytorch_3T27T",
   "language": "python",
   "name": "pytorch_3t27t"
  },
  "language_info": {
   "codemirror_mode": {
    "name": "ipython",
    "version": 3
   },
   "file_extension": ".py",
   "mimetype": "text/x-python",
   "name": "python",
   "nbconvert_exporter": "python",
   "pygments_lexer": "ipython3"
  }
 },
 "nbformat": 4,
 "nbformat_minor": 5
}
