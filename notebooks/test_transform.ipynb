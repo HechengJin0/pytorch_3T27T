{
 "cells": [
  {
   "cell_type": "markdown",
   "id": "6cc5dc3e-dc71-4fa8-a25d-12c1d3c5c549",
   "metadata": {},
   "source": [
    "# Testing data/transforms.py"
   ]
  },
  {
   "cell_type": "code",
   "execution_count": null,
   "id": "472c1498-d7f5-468b-af76-9fe93253eb14",
   "metadata": {},
   "outputs": [],
   "source": [
    "%load_ext autoreload\n",
    "%autoreload 2"
   ]
  },
  {
   "cell_type": "code",
   "execution_count": null,
   "id": "e8a5b065-d506-4931-b6f0-b9a2bd630db3",
   "metadata": {},
   "outputs": [],
   "source": [
    "import os.path\n",
    "from os.path import join as pjoin\n",
    "from pytorch_3T27T import SRC\n",
    "from pytorch_3T27T.data import plot, load_standard_test_imgs, AugmentationFactory\n",
    "from pytorch_3T27T.utils import set_seed, configure\n",
    "import matplotlib.pyplot as plt"
   ]
  },
  {
   "cell_type": "code",
   "execution_count": null,
   "id": "6d131633-0665-407f-87e5-95c82ad19ffe",
   "metadata": {},
   "outputs": [],
   "source": [
    "%matplotlib inline\n",
    "plt.rcParams['figure.figsize'] = [50, 25]\n",
    "plt.rcParams['savefig.bbox'] = 'tight'"
   ]
  },
  {
   "cell_type": "code",
   "execution_count": null,
   "id": "8062ff5a-a53a-4cf3-a3c2-31a583bcc2ad",
   "metadata": {},
   "outputs": [],
   "source": [
    "# Seed random number generators for reproducibility\n",
    "set_seed(0)\n",
    "\n",
    "imgs_directory = pjoin(SRC, 'data', 'standard_imgs')\n",
    "test_imgs, names = load_standard_test_imgs(imgs_directory)\n",
    "AUGMENTATIONS = {\n",
    "    'grayscale', 'fixsize', 'resize', 'scale_width', 'scale_shortside', 'zoom',\n",
    "    'crop', 'patch', 'trim', 'flip', 'convert', 'make_power_2'\n",
    "}\n",
    "\n",
    "for aug in AUGMENTATIONS:\n",
    "    display(aug)\n",
    "    augmentator = AugmentationFactory()\n",
    "    augmenator = configure(augmentator, aug)\n",
    "    transform = augmentator.get_transform()\n",
    "    imgs = [[transform(img)] for img in test_imgs]\n",
    "    fig = plot(imgs, baseline_imgs=test_imgs, row_title=names)\n",
    "    fig.patch.set_facecolor('white')\n",
    "    plt.show()"
   ]
  }
 ],
 "metadata": {
  "kernelspec": {
   "display_name": "pytorch_3T27T",
   "language": "python",
   "name": "pytorch_3t27t"
  },
  "language_info": {
   "codemirror_mode": {
    "name": "ipython",
    "version": 3
   },
   "file_extension": ".py",
   "mimetype": "text/x-python",
   "name": "python",
   "nbconvert_exporter": "python",
   "pygments_lexer": "ipython3"
  }
 },
 "nbformat": 4,
 "nbformat_minor": 5
}
