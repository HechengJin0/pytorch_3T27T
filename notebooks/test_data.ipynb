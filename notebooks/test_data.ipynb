{
 "cells": [
  {
   "cell_type": "markdown",
   "id": "6cc5dc3e-dc71-4fa8-a25d-12c1d3c5c549",
   "metadata": {},
   "source": [
    "# Testing data module"
   ]
  },
  {
   "cell_type": "code",
   "execution_count": null,
   "id": "472c1498-d7f5-468b-af76-9fe93253eb14",
   "metadata": {},
   "outputs": [],
   "source": [
    "%load_ext autoreload\n",
    "%autoreload 2\n",
    "%matplotlib inline"
   ]
  },
  {
   "cell_type": "code",
   "execution_count": null,
   "id": "e8a5b065-d506-4931-b6f0-b9a2bd630db3",
   "metadata": {},
   "outputs": [],
   "source": [
    "import matplotlib.pyplot as plt\n",
    "import numpy as np\n",
    "import torchvision.transforms as T\n",
    "import pytorch_3T27T.data as DataModule\n",
    "from pytorch_3T27T.data import OneFoldDataLoader, KFoldDataLoader\n",
    "from PIL import Image"
   ]
  },
  {
   "cell_type": "code",
   "execution_count": null,
   "id": "da25b129-8f83-45a0-8eaa-44e6c599bf87",
   "metadata": {},
   "outputs": [],
   "source": [
    "from pytorch_3T27T.utils import Configuration, init_and_config\n",
    "options = {\n",
    "    'train_transforms': {\n",
    "        'type': 'AugmentationFactory',\n",
    "        'options': {\n",
    "            'train': True,\n",
    "            'augmentations': ['resize', 'patch'],\n",
    "            'load_size': (128, 128),\n",
    "            'patch_size': (64, 64),\n",
    "        },\n",
    "    },\n",
    "    'test_transforms': {\n",
    "        'type': 'AugmentationFactory',\n",
    "        'options': {\n",
    "            'train': False,\n",
    "            'augmentations': ['resize'],\n",
    "            'load_size': (256, 256),\n",
    "        },\n",
    "    },\n",
    "    'train_dataset': {\n",
    "        'type': 'CycleGANDataset',\n",
    "        'options': {\n",
    "            'download': True,\n",
    "            'dataset': \"horse2zebra\",\n",
    "            'train': True,\n",
    "        }\n",
    "    },\n",
    "    'test_dataset': {\n",
    "        'type': 'CycleGANDataset',\n",
    "        'options': {\n",
    "            'download': True,\n",
    "            'dataset': \"horse2zebra\",\n",
    "            'train': False,\n",
    "        }\n",
    "    },\n",
    "    'train_dataloader': {\n",
    "        'type': 'BaseDataLoader',\n",
    "        'options': {\n",
    "            'batch_size': 10,\n",
    "        }\n",
    "    },\n",
    "    'test_dataloader': {\n",
    "        'type': 'BaseDataLoader',\n",
    "        'options': {\n",
    "            'batch_size': 1,\n",
    "        }\n",
    "    },\n",
    "}\n",
    "\n",
    "cfg = Configuration(**options)"
   ]
  },
  {
   "cell_type": "code",
   "execution_count": null,
   "id": "6cc1ab1c-f008-4fd7-81c8-d39e2868eb60",
   "metadata": {},
   "outputs": [],
   "source": [
    "def ToPILImage(img):\n",
    "    if img.ndim > 3:\n",
    "        batch_size = img.shape[0]\n",
    "        batch = []\n",
    "        for i in range(batch_size):\n",
    "            batch.append(T.ToPILImage()(img[i].to('cpu')))\n",
    "    return batch"
   ]
  },
  {
   "cell_type": "code",
   "execution_count": null,
   "id": "3bb212bc-3286-4ea7-92ac-4b26ca747fbb",
   "metadata": {},
   "outputs": [],
   "source": [
    "def plot_CycleGAN_sample(imgs):\n",
    "    fig, axs = plt.subplots(nrows=1, ncols=len(imgs), squeeze=True)\n",
    "    for col_idx, img in enumerate(imgs):\n",
    "        ax = axs[col_idx]\n",
    "        img = np.asarray(img)\n",
    "        ax.imshow(img)\n",
    "        ax.set(xticklabels=[], yticklabels=[], xticks=[], yticks=[])\n",
    "    fig.tight_layout()\n",
    "    return fig"
   ]
  },
  {
   "cell_type": "code",
   "execution_count": null,
   "id": "e63f8199-1c33-42cc-bc10-6400bc2ab5b0",
   "metadata": {},
   "outputs": [],
   "source": [
    "train_transform = init_and_config(DataModule, 'train_transforms', cfg)\n",
    "test_transform = init_and_config(DataModule, 'test_transforms', cfg)"
   ]
  },
  {
   "cell_type": "code",
   "execution_count": null,
   "id": "cb1910fd-f801-4af7-b080-838c2c67cf47",
   "metadata": {},
   "outputs": [],
   "source": [
    "train_dataset = init_and_config(DataModule, 'train_dataset', cfg, transform=train_transform.get_transform())\n",
    "test_dataset = init_and_config(DataModule, 'test_dataset', cfg, transform=test_transform.get_transform())"
   ]
  },
  {
   "cell_type": "code",
   "execution_count": null,
   "id": "ec9de324-4640-4b60-9b43-908c61e0bd28",
   "metadata": {},
   "outputs": [],
   "source": [
    "train_dataloader = init_and_config(DataModule, 'train_dataloader', cfg, train_dataset)\n",
    "test_dataloader = init_and_config(DataModule, 'test_dataloader', cfg, test_dataset)"
   ]
  },
  {
   "cell_type": "code",
   "execution_count": null,
   "id": "41f04d7a-386e-4e78-94ff-03c8a0a4142d",
   "metadata": {},
   "outputs": [],
   "source": [
    "for i, (train_sample, test_sample) in enumerate(zip(train_dataloader, test_dataloader)):\n",
    "    if i == 5:\n",
    "        break\n",
    "    train_A, train_B = ToPILImage(train_sample['A'][0]), ToPILImage(train_sample['B'][0])\n",
    "    test_A, test_B = ToPILImage(test_sample['A'][0]), ToPILImage(test_sample['B'][0])\n",
    "    fig = plot_CycleGAN_sample([train_A[0], test_A[0], train_B[0], test_B[0]]) \n",
    "    "
   ]
  },
  {
   "cell_type": "code",
   "execution_count": null,
   "id": "83cf26e1-818d-494f-af1d-81319e6dc3c3",
   "metadata": {},
   "outputs": [],
   "source": [
    "kloader = KFoldDataLoader(train_dataset)"
   ]
  },
  {
   "cell_type": "code",
   "execution_count": null,
   "id": "221bb8a2-0ce1-4ad2-910d-15ec39140186",
   "metadata": {},
   "outputs": [],
   "source": [
    "for (fold, train_set, val_set) in kloader:\n",
    "    print(f\"Fold: {fold}\")\n",
    "    for i, (train_sample, val_sample) in enumerate(zip(train_set, val_set)):\n",
    "        if i == 2:\n",
    "            break\n",
    "        train_A = ToPILImage(train_sample['A'][0])[0]\n",
    "        train_B = ToPILImage(train_sample['B'][0])[0]\n",
    "        val_A = ToPILImage(val_sample['A'][0])[0]\n",
    "        val_B = ToPILImage(val_sample['B'][0])[0]\n",
    "        fig = plot_CycleGAN_sample([train_A, train_B, val_A, val_B]) \n",
    "        plt.show()"
   ]
  },
  {
   "cell_type": "code",
   "execution_count": null,
   "id": "56a201ee-ea85-4aa1-a28d-92a93d2bae73",
   "metadata": {},
   "outputs": [],
   "source": [
    "loader = OneFoldDataLoader(train_dataset)\n",
    "train_dl, val_dl = loader()"
   ]
  },
  {
   "cell_type": "code",
   "execution_count": null,
   "id": "23791ab0-d981-4194-a405-114be5b6310d",
   "metadata": {},
   "outputs": [],
   "source": [
    "for (i, sample) in enumerate(train_dl):\n",
    "    if i == 5:\n",
    "        break\n",
    "    A, B = ToPILImage(sample['A'][0])[0], ToPILImage(sample['B'][0])[0]\n",
    "    fig = plot_CycleGAN_sample([A, B]) "
   ]
  }
 ],
 "metadata": {
  "kernelspec": {
   "display_name": "pytorch_3T27T",
   "language": "python",
   "name": "pytorch_3t27t"
  },
  "language_info": {
   "codemirror_mode": {
    "name": "ipython",
    "version": 3
   },
   "file_extension": ".py",
   "mimetype": "text/x-python",
   "name": "python",
   "nbconvert_exporter": "python",
   "pygments_lexer": "ipython3"
  }
 },
 "nbformat": 4,
 "nbformat_minor": 5
}
